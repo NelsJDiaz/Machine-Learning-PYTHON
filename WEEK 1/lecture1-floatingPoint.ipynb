{
 "cells": [
  {
   "attachments": {},
   "cell_type": "markdown",
   "metadata": {},
   "source": [
    "<h1 style = \"text-align: center;\"> Python Syntax and Flow Controls </h1>"
   ]
  },
  {
   "cell_type": "code",
   "execution_count": 5,
   "metadata": {},
   "outputs": [
    {
     "name": "stdout",
     "output_type": "stream",
     "text": [
      "Float Value: 3.00, Int Value: 3, String Value Nelson Diaz\n"
     ]
    }
   ],
   "source": [
    "# Undestanding the different datatypes\n",
    "variable_float = 3.0\n",
    "variable_int = 3\n",
    "variable_string = \"Nelson Diaz\"\n",
    "print(\"Float Value: {0:.2f}, Int Value: {1:d}, String Value {2:s}\".format(variable_float,variable_int,variable_string))\n"
   ]
  },
  {
   "attachments": {},
   "cell_type": "markdown",
   "metadata": {},
   "source": [
    "<h2 style = \"text-align: center;\"> Quadratic Function of From y=ax^2 + bx + c </h2>"
   ]
  },
  {
   "cell_type": "code",
   "execution_count": 12,
   "metadata": {},
   "outputs": [],
   "source": [
    "import math as math\n",
    "import matplotlib.pyplot as plt\n",
    "import numpy as np\n"
   ]
  },
  {
   "cell_type": "code",
   "execution_count": 19,
   "metadata": {},
   "outputs": [
    {
     "name": "stdout",
     "output_type": "stream",
     "text": [
      "Coeficients a, b, and c: 1, 6, and 2\n"
     ]
    }
   ],
   "source": [
    "# prompt the values for the coefficent a,b and c\n",
    "\n",
    "a,b,c = [int(x) for x in input(\"Write the values of your coefficients: \").split()]\n",
    "\n",
    "print(\"Coeficients a, b, and c: {0:d}, {1:d}, and {2:d}\".format(a,b,c))\n"
   ]
  },
  {
   "cell_type": "code",
   "execution_count": 23,
   "metadata": {},
   "outputs": [
    {
     "name": "stdout",
     "output_type": "stream",
     "text": [
      "X-Intercepts: -0.35, -5.65\n",
      "Y-Intercepts: (0,2.00)\n"
     ]
    }
   ],
   "source": [
    "# Finding the x intercept\n",
    "import math as math\n",
    "root_1 = (-b+math.sqrt(math.pow(b,2)-4*a*c))/(2*a)\n",
    "root_2 = (-b-math.sqrt(math.pow(b,2)-4*a*c))/(2*a)\n",
    "print(\"X-Intercepts: {0:.2f}, {1:.2f}\".format(root_1,root_2))\n",
    "print(\"Y-Intercepts: (0,{0:.2f})\".format(c))\n"
   ]
  },
  {
   "cell_type": "code",
   "execution_count": 25,
   "metadata": {},
   "outputs": [
    {
     "name": "stdout",
     "output_type": "stream",
     "text": [
      "X-Intercepts: -0.35, -5.65\n"
     ]
    }
   ],
   "source": [
    "discriminant = math.pow(b,2)-4*a*c\n",
    "if discriminant >=0:\n",
    "    root_1 = (-b+math.sqrt(math.pow(b,2)-4*a*c))/(2*a)\n",
    "    root_2 = (-b-math.sqrt(math.pow(b,2)-4*a*c))/(2*a)\n",
    "    print(\"X-Intercepts: {0:.2f}, {1:.2f}\".format(root_1,root_2))\n",
    "else:\n",
    "    print(\"Quadratic function does not have an x-intercept\")\n"
   ]
  },
  {
   "cell_type": "code",
   "execution_count": 28,
   "metadata": {},
   "outputs": [
    {
     "name": "stdout",
     "output_type": "stream",
     "text": [
      "The vertex of you fucntion is: (-3.00, -7.00) \n"
     ]
    }
   ],
   "source": [
    "h = (-b)/(2*a)\n",
    "k = a*math.pow(h,2)+b*h+c\n",
    "\n",
    "print(\"The vertex of you fucntion is: ({0:.2f}, {1:.2f}) \".format(h,k))"
   ]
  },
  {
   "cell_type": "code",
   "execution_count": 31,
   "metadata": {},
   "outputs": [
    {
     "data": {
      "text/plain": [
       "[<matplotlib.lines.Line2D at 0x225be6a0d10>]"
      ]
     },
     "execution_count": 31,
     "metadata": {},
     "output_type": "execute_result"
    },
    {
     "data": {
      "image/png": "[encoded data removed]",
      "text/plain": [
       "<Figure size 640x480 with 1 Axes>"
      ]
     },
     "metadata": {},
     "output_type": "display_data"
    }
   ],
   "source": [
    "# Plot your function\n",
    "\n",
    "# Define your x-space\n",
    "x = np.linspace(-40,40,100)\n",
    "\n",
    "# Define your quadratic function\n",
    "\n",
    "y = a*(x**2)+ b*x+c\n",
    "\n",
    "fig = plt.figure()\n",
    "ax = fig.add_subplot(1,1,1)\n",
    "ax.spines['left'].set_position('center')\n",
    "ax.spines['bottom'].set_position(\"zero\")\n",
    "ax.spines['right'].set_color('none')\n",
    "ax.spines['top'].set_color('none')\n",
    "ax.xaxis.set_ticks_position(\"bottom\")\n",
    "ax.yaxis.set_ticks_position(\"left\")\n",
    "\n",
    "plt.plot(x,y,'r')\n"
   ]
  }
 ],
 "metadata": {
  "kernelspec": {
   "display_name": "Python 3",
   "language": "python",
   "name": "python3"
  },
  "language_info": {
   "codemirror_mode": {
    "name": "ipython",
    "version": 3
   },
   "file_extension": ".py",
   "mimetype": "text/x-python",
   "name": "python",
   "nbconvert_exporter": "python",
   "pygments_lexer": "ipython3",
   "version": "3.11.3"
  },
  "orig_nbformat": 4
 },
 "nbformat": 4,
 "nbformat_minor": 2
}
